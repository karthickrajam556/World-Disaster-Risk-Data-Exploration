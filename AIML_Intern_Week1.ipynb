{
  "nbformat": 4,
  "nbformat_minor": 0,
  "metadata": {
    "colab": {
      "private_outputs": true,
      "provenance": []
    },
    "kernelspec": {
      "name": "python3",
      "display_name": "Python 3"
    },
    "language_info": {
      "name": "python"
    }
  },
  "cells": [
    {
      "cell_type": "code",
      "execution_count": null,
      "metadata": {
        "id": "lMD85oQRlzva"
      },
      "outputs": [],
      "source": [
        "import numpy as np\n",
        "import pandas as pd\n"
      ]
    },
    {
      "cell_type": "code",
      "source": [
        "df = pd.read_csv('/content/world_risk_index.csv')\n",
        "df"
      ],
      "metadata": {
        "id": "2cTKK4HxoWAC"
      },
      "execution_count": null,
      "outputs": []
    },
    {
      "cell_type": "code",
      "source": [
        "df.info()"
      ],
      "metadata": {
        "id": "J8FaLpjLofo6"
      },
      "execution_count": null,
      "outputs": []
    },
    {
      "cell_type": "code",
      "source": [
        "df.describe()"
      ],
      "metadata": {
        "id": "vPc2GmfJozGp"
      },
      "execution_count": null,
      "outputs": []
    },
    {
      "cell_type": "code",
      "source": [
        "df.isnull().sum()"
      ],
      "metadata": {
        "id": "sArztWx0o4e1"
      },
      "execution_count": null,
      "outputs": []
    },
    {
      "cell_type": "code",
      "source": [
        "df[' Lack of Adaptive Capacities'] = df[' Lack of Adaptive Capacities'].fillna(df[' Lack of Adaptive Capacities'].mean())"
      ],
      "metadata": {
        "id": "41qEni0CpFa0"
      },
      "execution_count": null,
      "outputs": []
    },
    {
      "cell_type": "code",
      "source": [
        "df['WRI Category'] = df['WRI Category'].fillna(df['WRI Category'].mode()[0])"
      ],
      "metadata": {
        "id": "f3Dn41lSpcVo"
      },
      "execution_count": null,
      "outputs": []
    },
    {
      "cell_type": "code",
      "source": [
        "df['Vulnerability Category'] = df['Vulnerability Category'].fillna(df['Vulnerability Category'].mode()[0])"
      ],
      "metadata": {
        "id": "4YQziMtJq6lL"
      },
      "execution_count": null,
      "outputs": []
    },
    {
      "cell_type": "code",
      "source": [
        "df.isnull().sum()"
      ],
      "metadata": {
        "id": "0BtWoN0-rDUd"
      },
      "execution_count": null,
      "outputs": []
    },
    {
      "cell_type": "code",
      "source": [
        "df.head(10)"
      ],
      "metadata": {
        "id": "In83-_nmrLv3"
      },
      "execution_count": null,
      "outputs": []
    }
  ]
}