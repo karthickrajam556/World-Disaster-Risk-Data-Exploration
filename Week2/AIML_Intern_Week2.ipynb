{
  "nbformat": 4,
  "nbformat_minor": 0,
  "metadata": {
    "colab": {
      "private_outputs": true,
      "provenance": []
    },
    "kernelspec": {
      "name": "python3",
      "display_name": "Python 3"
    },
    "language_info": {
      "name": "python"
    }
  },
  "cells": [
    {
      "cell_type": "markdown",
      "source": [
        "# WEEK - 1\n",
        "1. able search dataset which is related to theme\n",
        "2. able to define the problem statement which he will be solving with ML 3. able to prepare his dataset for ML model\n"
      ],
      "metadata": {
        "id": "e5aGGfQH64b5"
      }
    },
    {
      "cell_type": "code",
      "execution_count": null,
      "metadata": {
        "id": "lMD85oQRlzva"
      },
      "outputs": [],
      "source": [
        "import numpy as np\n",
        "import pandas as pd\n"
      ]
    },
    {
      "cell_type": "code",
      "source": [
        "df = pd.read_csv('/content/world_risk_index.csv')\n",
        "df"
      ],
      "metadata": {
        "id": "2cTKK4HxoWAC"
      },
      "execution_count": null,
      "outputs": []
    },
    {
      "cell_type": "code",
      "source": [
        "df.info()"
      ],
      "metadata": {
        "id": "J8FaLpjLofo6"
      },
      "execution_count": null,
      "outputs": []
    },
    {
      "cell_type": "code",
      "source": [
        "df.describe()"
      ],
      "metadata": {
        "id": "vPc2GmfJozGp"
      },
      "execution_count": null,
      "outputs": []
    },
    {
      "cell_type": "code",
      "source": [
        "df.isnull().sum()"
      ],
      "metadata": {
        "id": "sArztWx0o4e1"
      },
      "execution_count": null,
      "outputs": []
    },
    {
      "cell_type": "code",
      "source": [
        "df[' Lack of Adaptive Capacities'] = df[' Lack of Adaptive Capacities'].fillna(df[' Lack of Adaptive Capacities'].mean())"
      ],
      "metadata": {
        "id": "41qEni0CpFa0"
      },
      "execution_count": null,
      "outputs": []
    },
    {
      "cell_type": "code",
      "source": [
        "df['WRI Category'] = df['WRI Category'].fillna(df['WRI Category'].mode()[0])"
      ],
      "metadata": {
        "id": "f3Dn41lSpcVo"
      },
      "execution_count": null,
      "outputs": []
    },
    {
      "cell_type": "code",
      "source": [
        "df['Vulnerability Category'] = df['Vulnerability Category'].fillna(df['Vulnerability Category'].mode()[0])"
      ],
      "metadata": {
        "id": "4YQziMtJq6lL"
      },
      "execution_count": null,
      "outputs": []
    },
    {
      "cell_type": "code",
      "source": [
        "df.isnull().sum()"
      ],
      "metadata": {
        "id": "0BtWoN0-rDUd"
      },
      "execution_count": null,
      "outputs": []
    },
    {
      "cell_type": "code",
      "source": [
        "df.head(10)"
      ],
      "metadata": {
        "id": "In83-_nmrLv3"
      },
      "execution_count": null,
      "outputs": []
    },
    {
      "cell_type": "markdown",
      "source": [
        "# WEEK - 2\n",
        "4. able to rectify which ML model should implement on the dataset\n",
        "5. implement you ML model\n",
        "6. Evaluate your ML model we will checking accuracy\n"
      ],
      "metadata": {
        "id": "MZfaQR1-7FXE"
      }
    },
    {
      "cell_type": "code",
      "source": [
        "from sklearn.model_selection import train_test_split\n",
        "from sklearn.ensemble import RandomForestClassifier\n",
        "from sklearn.metrics import accuracy_score, classification_report, confusion_matrix\n",
        "from sklearn.preprocessing import LabelEncoder"
      ],
      "metadata": {
        "id": "mNsa4WqV63lG"
      },
      "execution_count": null,
      "outputs": []
    },
    {
      "cell_type": "code",
      "source": [
        "# Features (numeric only)\n",
        "X = df[[\"Exposure\", \"Vulnerability\", \"Susceptibility\",\n",
        "              \"Lack of Coping Capabilities\", \" Lack of Adaptive Capacities\", \"Year\"]]\n",
        "\n",
        "# Target (categorical: WRI Category)\n",
        "y = df[\"WRI Category\"]\n",
        "\n",
        "# Encode target labels\n",
        "le = LabelEncoder()\n",
        "y_encoded = le.fit_transform(y)\n",
        "\n",
        "# Train-test split\n",
        "X_train, X_test, y_train, y_test = train_test_split(X, y_encoded, test_size=0.2, random_state=42, stratify=y_encoded)\n",
        "\n",
        "# Random Forest Classifier\n",
        "rf = RandomForestClassifier(random_state=42, n_estimators=100)\n",
        "rf.fit(X_train, y_train)\n",
        "\n",
        "# Predictions\n",
        "y_pred = rf.predict(X_test)\n",
        "\n",
        "# Evaluation\n",
        "accuracy = accuracy_score(y_test, y_pred)\n",
        "class_report = classification_report(y_test, y_pred, target_names=le.classes_)\n",
        "conf_matrix = confusion_matrix(y_test, y_pred)\n",
        "\n"
      ],
      "metadata": {
        "id": "Pqr2vEm562NZ"
      },
      "execution_count": null,
      "outputs": []
    },
    {
      "cell_type": "code",
      "source": [
        "print(f\"Accuracy: {accuracy}\")"
      ],
      "metadata": {
        "id": "N9dppLKH78p4"
      },
      "execution_count": null,
      "outputs": []
    },
    {
      "cell_type": "code",
      "source": [
        "print(\"\\nClassification Report:\\n\", class_report)"
      ],
      "metadata": {
        "id": "w6zNjGy08Az2"
      },
      "execution_count": null,
      "outputs": []
    },
    {
      "cell_type": "code",
      "source": [
        "print(\"\\nConfusion Matrix:\\n\", conf_matrix)"
      ],
      "metadata": {
        "id": "te7DsYhN8C86"
      },
      "execution_count": null,
      "outputs": []
    }
  ]
}